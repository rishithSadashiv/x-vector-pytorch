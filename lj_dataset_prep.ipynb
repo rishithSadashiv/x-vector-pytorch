{
 "cells": [
  {
   "cell_type": "code",
   "execution_count": 1,
   "id": "bb4db4d7",
   "metadata": {},
   "outputs": [],
   "source": [
    "import os\n",
    "import numpy as np\n",
    "import glob\n",
    "import argparse\n",
    "import random"
   ]
  },
  {
   "cell_type": "code",
   "execution_count": 2,
   "id": "4f91388a",
   "metadata": {},
   "outputs": [],
   "source": [
    "class_ids = {'spoof':0, 'bonafide': 1}"
   ]
  },
  {
   "cell_type": "code",
   "execution_count": 3,
   "id": "fc07f0d0",
   "metadata": {},
   "outputs": [],
   "source": [
    "def create_meta(files_list,store_loc,mode='train'):\n",
    "    if not os.path.exists(store_loc):\n",
    "        os.makedirs(store_loc)\n",
    "    \n",
    "    if mode=='train':\n",
    "        meta_store = store_loc+'/lj_training.txt'\n",
    "        fid = open(meta_store,'w')\n",
    "        for filepath in files_list:\n",
    "            fid.write(filepath+'\\n')\n",
    "        fid.close()\n",
    "    elif mode=='test':\n",
    "        meta_store = store_loc+'/lj_testing.txt'\n",
    "        fid = open(meta_store,'w')\n",
    "        for filepath in files_list:\n",
    "            fid.write(filepath+'\\n')\n",
    "        fid.close()\n",
    "    elif mode=='validation':\n",
    "        meta_store = store_loc+'/lj_validation.txt'\n",
    "        fid = open(meta_store,'w')\n",
    "        for filepath in files_list:\n",
    "            fid.write(filepath+'\\n')\n",
    "        fid.close()\n",
    "    else:\n",
    "        print('Error in creating meta files')"
   ]
  },
  {
   "cell_type": "code",
   "execution_count": 4,
   "id": "80781e28",
   "metadata": {},
   "outputs": [],
   "source": [
    "data_rootdir = '/nas/rishith/datasets/smaller_dbs/DataSets/Combined_LJ/'\n",
    "\n",
    "bonaTrainFolder = data_rootdir + \"Train/orig_com\"\n",
    "fakeTrainFolder = data_rootdir + \"Train/fake_com\"\n",
    "\n",
    "bonaTrainFiles = sorted(glob.glob(bonaTrainFolder+'/*.wav'))\n",
    "fakeTrainFiles = sorted(glob.glob(fakeTrainFolder+'/*.wav'))"
   ]
  },
  {
   "cell_type": "code",
   "execution_count": 5,
   "id": "cbc6c665",
   "metadata": {},
   "outputs": [
    {
     "name": "stdout",
     "output_type": "stream",
     "text": [
      "451\n",
      "451\n"
     ]
    }
   ],
   "source": [
    "print(len(bonaTrainFiles))\n",
    "print(len(fakeTrainFiles))"
   ]
  },
  {
   "cell_type": "code",
   "execution_count": 6,
   "id": "64269c35",
   "metadata": {},
   "outputs": [],
   "source": [
    "bonaValidationFilesAfterSplit = random.sample(bonaTrainFiles, int(len(bonaTrainFiles)*0.1))\n",
    "bonaTrainFilesAfterSplit = set(bonaTrainFiles) - set(bonaValidationFilesAfterSplit)\n",
    "\n",
    "fakeValidationFilesAfterSplit = random.sample(fakeTrainFiles, int(len(fakeTrainFiles)*0.1))\n",
    "fakeTrainFilesAfterSplit = set(fakeTrainFiles) - set(fakeValidationFilesAfterSplit)"
   ]
  },
  {
   "cell_type": "code",
   "execution_count": 7,
   "id": "86124830",
   "metadata": {},
   "outputs": [],
   "source": [
    "train_lists=[]\n",
    "val_lists=[]"
   ]
  },
  {
   "cell_type": "code",
   "execution_count": 8,
   "id": "0f677fed",
   "metadata": {},
   "outputs": [],
   "source": [
    "for audioPath in list(bonaTrainFilesAfterSplit):\n",
    "    to_write = audioPath+' '+str(class_ids['bonafide'])\n",
    "    train_lists.append(to_write)\n",
    "    \n",
    "for audioPath in list(fakeTrainFilesAfterSplit):\n",
    "    to_write = audioPath+' '+str(class_ids['spoof'])\n",
    "    train_lists.append(to_write)"
   ]
  },
  {
   "cell_type": "code",
   "execution_count": 9,
   "id": "e8d61890",
   "metadata": {},
   "outputs": [],
   "source": [
    "for audioPath in bonaValidationFilesAfterSplit:\n",
    "    to_write = audioPath+' '+str(class_ids['bonafide'])\n",
    "    val_lists.append(to_write)\n",
    "\n",
    "for audioPath in fakeValidationFilesAfterSplit:\n",
    "    to_write = audioPath+' '+str(class_ids['spoof'])\n",
    "    val_lists.append(to_write)"
   ]
  },
  {
   "cell_type": "code",
   "execution_count": 10,
   "id": "dfda7411",
   "metadata": {},
   "outputs": [],
   "source": [
    "bonaTestFolder = data_rootdir + \"Test/orig_com\"\n",
    "fakeTestFolder = data_rootdir + \"Test/fake_com\"\n",
    "\n",
    "bonaTestFiles = sorted(glob.glob(bonaTestFolder+'/*.wav'))\n",
    "fakeTestFiles = sorted(glob.glob(fakeTestFolder+'/*.wav'))"
   ]
  },
  {
   "cell_type": "code",
   "execution_count": 12,
   "id": "c76783b4",
   "metadata": {},
   "outputs": [],
   "source": [
    "test_lists = []\n",
    "for audioPath in bonaTestFiles:\n",
    "    to_write = audioPath+' '+str(class_ids['bonafide'])\n",
    "    test_lists.append(to_write)\n",
    "\n",
    "for audioPath in fakeTestFiles:\n",
    "    to_write = audioPath+' '+str(class_ids['spoof'])\n",
    "    test_lists.append(to_write)"
   ]
  },
  {
   "cell_type": "code",
   "execution_count": null,
   "id": "6f4751e1",
   "metadata": {},
   "outputs": [],
   "source": []
  },
  {
   "cell_type": "code",
   "execution_count": null,
   "id": "d8d96884",
   "metadata": {},
   "outputs": [],
   "source": []
  },
  {
   "cell_type": "code",
   "execution_count": 13,
   "id": "5e1b28db",
   "metadata": {},
   "outputs": [
    {
     "data": {
      "text/plain": [
       "98"
      ]
     },
     "execution_count": 13,
     "metadata": {},
     "output_type": "execute_result"
    }
   ],
   "source": [
    "len(test_lists)"
   ]
  },
  {
   "cell_type": "code",
   "execution_count": 14,
   "id": "385ee4ac",
   "metadata": {},
   "outputs": [],
   "source": [
    "meta_store_path = 'meta/'\n",
    "# create_meta(train_lists,meta_store_path,mode='train')\n",
    "create_meta(test_lists,meta_store_path,mode='test')\n",
    "# create_meta(val_lists,meta_store_path,mode='validation')"
   ]
  },
  {
   "cell_type": "code",
   "execution_count": null,
   "id": "183c9d7c",
   "metadata": {},
   "outputs": [],
   "source": []
  },
  {
   "cell_type": "markdown",
   "id": "67cf197a",
   "metadata": {},
   "source": [
    "# Train"
   ]
  },
  {
   "cell_type": "code",
   "execution_count": null,
   "id": "e3fd3b37",
   "metadata": {},
   "outputs": [],
   "source": [
    "# Run in terminal to train\n",
    "# python 1.training_xvector_lj.py"
   ]
  },
  {
   "cell_type": "markdown",
   "id": "4016307c",
   "metadata": {},
   "source": [
    "# Test"
   ]
  },
  {
   "cell_type": "code",
   "execution_count": 20,
   "id": "7b419a3e",
   "metadata": {},
   "outputs": [
    {
     "data": {
      "text/plain": [
       "X_vector(\n",
       "  (tdnn1): TDNN(\n",
       "    (kernel): Linear(in_features=1285, out_features=512, bias=True)\n",
       "    (nonlinearity): ReLU()\n",
       "    (drop): Dropout(p=0.5, inplace=False)\n",
       "  )\n",
       "  (tdnn2): TDNN(\n",
       "    (kernel): Linear(in_features=1536, out_features=512, bias=True)\n",
       "    (nonlinearity): ReLU()\n",
       "    (drop): Dropout(p=0.5, inplace=False)\n",
       "  )\n",
       "  (tdnn3): TDNN(\n",
       "    (kernel): Linear(in_features=1024, out_features=512, bias=True)\n",
       "    (nonlinearity): ReLU()\n",
       "    (drop): Dropout(p=0.5, inplace=False)\n",
       "  )\n",
       "  (tdnn4): TDNN(\n",
       "    (kernel): Linear(in_features=512, out_features=512, bias=True)\n",
       "    (nonlinearity): ReLU()\n",
       "    (drop): Dropout(p=0.5, inplace=False)\n",
       "  )\n",
       "  (tdnn5): TDNN(\n",
       "    (kernel): Linear(in_features=512, out_features=512, bias=True)\n",
       "    (nonlinearity): ReLU()\n",
       "    (drop): Dropout(p=0.5, inplace=False)\n",
       "  )\n",
       "  (segment6): Linear(in_features=1024, out_features=512, bias=True)\n",
       "  (segment7): Linear(in_features=512, out_features=512, bias=True)\n",
       "  (output): Linear(in_features=512, out_features=2, bias=True)\n",
       "  (softmax): Softmax(dim=1)\n",
       ")"
      ]
     },
     "execution_count": 20,
     "metadata": {},
     "output_type": "execute_result"
    }
   ],
   "source": [
    "# infer.py\n",
    "\n",
    "import os\n",
    "import sys\n",
    "import numpy as np\n",
    "import torch\n",
    "import yaml\n",
    "from models.x_vector_Indian_LID import X_vector\n",
    "\n",
    "import warnings\n",
    "warnings.filterwarnings(\"ignore\")\n",
    "\n",
    "device = torch.device(\"cuda\" if torch.cuda.is_available() else \"cpu\")\n",
    "device =\"cpu\"\n",
    "\n",
    "num_classes = 2\n",
    "# model = get_model(device, num_classes, pretrained=False)\n",
    "input_dim = 257\n",
    "\n",
    "model = X_vector(input_dim, num_classes).to(device)\n",
    "\n",
    "#checkpoints = torch.load(sys.argv[1])\n",
    "\n",
    "checkpoints = torch.load(\"./save_model/best_check_point_14_0.033093832132484145\",map_location=torch.device('cpu'))\n",
    "\n",
    "model.load_state_dict(checkpoints['model'])\n",
    "\n",
    "model.eval()"
   ]
  },
  {
   "cell_type": "code",
   "execution_count": null,
   "id": "014371db",
   "metadata": {},
   "outputs": [],
   "source": []
  },
  {
   "cell_type": "code",
   "execution_count": 24,
   "id": "caa4068f",
   "metadata": {},
   "outputs": [],
   "source": [
    "def validation(dataloader, epoch):\n",
    "    model.eval()\n",
    "    with torch.no_grad():\n",
    "        val_loss_list=[]\n",
    "        full_preds=[]\n",
    "        full_gts=[]\n",
    "        for i_batch, sample_batched in enumerate(dataloader):\n",
    "#             print(sample_batched[0][0].shape)\n",
    "            features = torch.from_numpy(np.array([torch_tensor.numpy().T for torch_tensor in sample_batched[0]])).float()\n",
    "            labels = torch.from_numpy(np.asarray([torch_tensor[0].numpy() for torch_tensor in sample_batched[1]]))\n",
    "            features, labels = features.to(device),labels.to(device)\n",
    "            pred_logits,x_vec = model(features)\n",
    "            #### CE loss\n",
    "#             loss = loss_fun(pred_logits,labels)\n",
    "#             val_loss_list.append(loss.item())\n",
    "            #train_acc_list.append(accuracy)\n",
    "            predictions = np.argmax(pred_logits.detach().cpu().numpy(),axis=1)\n",
    "            for pred in predictions:\n",
    "                full_preds.append(pred)\n",
    "            for lab in labels.detach().cpu().numpy():\n",
    "                full_gts.append(lab)\n",
    "                \n",
    "        mean_acc = accuracy_score(full_gts,full_preds)\n",
    "#         mean_loss = np.mean(np.asarray(val_loss_list))\n",
    "        print('Total Validation accuracy {} after {} epochs'.format(mean_acc,epoch))"
   ]
  },
  {
   "cell_type": "code",
   "execution_count": 25,
   "id": "ebef0fdc",
   "metadata": {},
   "outputs": [],
   "source": [
    "from utils.utils import speech_collate\n",
    "from SpeechDataGenerator import SpeechDataGenerator\n",
    "from torch.utils.data import DataLoader\n",
    "from sklearn.metrics import accuracy_score\n",
    "\n",
    "dataset_val = SpeechDataGenerator(manifest='meta/lj_validation.txt',mode='train')\n",
    "dataloader_val = DataLoader(dataset_val, batch_size=1,shuffle=True,collate_fn=speech_collate) \n",
    "\n",
    "dataset_test = SpeechDataGenerator(manifest='meta/lj_testing.txt',mode='test')\n",
    "dataloader_test = DataLoader(dataset_test, batch_size=1,shuffle=True,collate_fn=speech_collate) "
   ]
  },
  {
   "cell_type": "code",
   "execution_count": 28,
   "id": "45320583",
   "metadata": {},
   "outputs": [
    {
     "name": "stdout",
     "output_type": "stream",
     "text": [
      "Total Validation accuracy 0.9888888888888889 after 15 epochs\n"
     ]
    }
   ],
   "source": [
    "validation(dataloader_val, 15)"
   ]
  },
  {
   "cell_type": "code",
   "execution_count": 29,
   "id": "1855421a",
   "metadata": {},
   "outputs": [
    {
     "name": "stdout",
     "output_type": "stream",
     "text": [
      "Total Validation accuracy 1.0 after 15 epochs\n"
     ]
    }
   ],
   "source": [
    "validation(dataloader_test, 15)"
   ]
  },
  {
   "cell_type": "code",
   "execution_count": null,
   "id": "4c4865b1",
   "metadata": {},
   "outputs": [],
   "source": []
  },
  {
   "cell_type": "code",
   "execution_count": 30,
   "id": "d87d93f8",
   "metadata": {},
   "outputs": [],
   "source": [
    "dataset_val = SpeechDataGenerator(manifest='meta/cmu_validation.txt',mode='train')\n",
    "dataloader_val = DataLoader(dataset_val, batch_size=1,shuffle=True,collate_fn=speech_collate) \n",
    "\n",
    "dataset_test = SpeechDataGenerator(manifest='meta/cmu_testing.txt',mode='test')\n",
    "dataloader_test = DataLoader(dataset_test, batch_size=1,shuffle=True,collate_fn=speech_collate) "
   ]
  },
  {
   "cell_type": "code",
   "execution_count": 31,
   "id": "b6ab0239",
   "metadata": {},
   "outputs": [
    {
     "name": "stdout",
     "output_type": "stream",
     "text": [
      "Total Validation accuracy 0.5 after 15 epochs\n"
     ]
    }
   ],
   "source": [
    "validation(dataloader_val, 15)"
   ]
  },
  {
   "cell_type": "code",
   "execution_count": 32,
   "id": "23fb66f4",
   "metadata": {},
   "outputs": [
    {
     "name": "stdout",
     "output_type": "stream",
     "text": [
      "Total Validation accuracy 0.5 after 15 epochs\n"
     ]
    }
   ],
   "source": [
    "validation(dataloader_test, 15)"
   ]
  },
  {
   "cell_type": "code",
   "execution_count": null,
   "id": "35b4092f",
   "metadata": {},
   "outputs": [],
   "source": []
  },
  {
   "cell_type": "code",
   "execution_count": 33,
   "id": "1a5a3555",
   "metadata": {},
   "outputs": [],
   "source": [
    "dataset_val = SpeechDataGenerator(manifest='meta/libri_validation.txt',mode='train')\n",
    "dataloader_val = DataLoader(dataset_val, batch_size=1,shuffle=True,collate_fn=speech_collate) \n",
    "\n",
    "dataset_test = SpeechDataGenerator(manifest='meta/libri_testing.txt',mode='test')\n",
    "dataloader_test = DataLoader(dataset_test, batch_size=1,shuffle=True,collate_fn=speech_collate) "
   ]
  },
  {
   "cell_type": "code",
   "execution_count": 34,
   "id": "52fba827",
   "metadata": {},
   "outputs": [
    {
     "name": "stdout",
     "output_type": "stream",
     "text": [
      "Total Validation accuracy 0.5135135135135135 after 15 epochs\n"
     ]
    }
   ],
   "source": [
    "validation(dataloader_val, 15)"
   ]
  },
  {
   "cell_type": "code",
   "execution_count": 35,
   "id": "3a3319d0",
   "metadata": {},
   "outputs": [
    {
     "name": "stdout",
     "output_type": "stream",
     "text": [
      "Total Validation accuracy 0.5 after 15 epochs\n"
     ]
    }
   ],
   "source": [
    "validation(dataloader_test, 15)"
   ]
  },
  {
   "cell_type": "code",
   "execution_count": null,
   "id": "9845fd10",
   "metadata": {},
   "outputs": [],
   "source": []
  },
  {
   "cell_type": "code",
   "execution_count": null,
   "id": "29f913d2",
   "metadata": {},
   "outputs": [],
   "source": []
  },
  {
   "cell_type": "code",
   "execution_count": null,
   "id": "ec45ea03",
   "metadata": {},
   "outputs": [],
   "source": []
  },
  {
   "cell_type": "code",
   "execution_count": null,
   "id": "1558db40",
   "metadata": {},
   "outputs": [],
   "source": []
  },
  {
   "cell_type": "code",
   "execution_count": null,
   "id": "eb98dbe3",
   "metadata": {},
   "outputs": [],
   "source": []
  },
  {
   "cell_type": "code",
   "execution_count": 82,
   "id": "7586d407",
   "metadata": {},
   "outputs": [],
   "source": [
    "a = next(iter(dataloader_test))"
   ]
  },
  {
   "cell_type": "code",
   "execution_count": 102,
   "id": "1ab8835a",
   "metadata": {},
   "outputs": [
    {
     "ename": "TypeError",
     "evalue": "can't convert np.ndarray of type numpy.object_. The only supported types are: float64, float32, float16, complex64, complex128, int64, int32, int16, int8, uint8, and bool.",
     "output_type": "error",
     "traceback": [
      "\u001b[0;31m---------------------------------------------------------------------------\u001b[0m",
      "\u001b[0;31mTypeError\u001b[0m                                 Traceback (most recent call last)",
      "\u001b[0;32m/tmp/ipykernel_742215/2650177615.py\u001b[0m in \u001b[0;36m<module>\u001b[0;34m\u001b[0m\n\u001b[0;32m----> 1\u001b[0;31m \u001b[0mfeatures\u001b[0m \u001b[0;34m=\u001b[0m \u001b[0mtorch\u001b[0m\u001b[0;34m.\u001b[0m\u001b[0mfrom_numpy\u001b[0m\u001b[0;34m(\u001b[0m\u001b[0mnp\u001b[0m\u001b[0;34m.\u001b[0m\u001b[0masarray\u001b[0m\u001b[0;34m(\u001b[0m\u001b[0;34m[\u001b[0m\u001b[0mtorch_tensor\u001b[0m\u001b[0;34m.\u001b[0m\u001b[0mnumpy\u001b[0m\u001b[0;34m(\u001b[0m\u001b[0;34m)\u001b[0m\u001b[0;34m.\u001b[0m\u001b[0mT\u001b[0m \u001b[0;32mfor\u001b[0m \u001b[0mtorch_tensor\u001b[0m \u001b[0;32min\u001b[0m \u001b[0ma\u001b[0m\u001b[0;34m[\u001b[0m\u001b[0;36m0\u001b[0m\u001b[0;34m]\u001b[0m\u001b[0;34m]\u001b[0m\u001b[0;34m)\u001b[0m\u001b[0;34m)\u001b[0m\u001b[0;34m\u001b[0m\u001b[0;34m\u001b[0m\u001b[0m\n\u001b[0m",
      "\u001b[0;31mTypeError\u001b[0m: can't convert np.ndarray of type numpy.object_. The only supported types are: float64, float32, float16, complex64, complex128, int64, int32, int16, int8, uint8, and bool."
     ]
    }
   ],
   "source": [
    "features = torch.from_numpy(np.asarray([torch_tensor.numpy().T for torch_tensor in a[0]]))"
   ]
  },
  {
   "cell_type": "code",
   "execution_count": 113,
   "id": "6d833edf",
   "metadata": {},
   "outputs": [],
   "source": [
    "b = [torch_tensor.numpy().T for torch_tensor in a[0]]"
   ]
  },
  {
   "cell_type": "code",
   "execution_count": 114,
   "id": "536a7d0c",
   "metadata": {},
   "outputs": [
    {
     "data": {
      "text/plain": [
       "list"
      ]
     },
     "execution_count": 114,
     "metadata": {},
     "output_type": "execute_result"
    }
   ],
   "source": [
    "type(b)"
   ]
  },
  {
   "cell_type": "code",
   "execution_count": 115,
   "id": "9d7d0869",
   "metadata": {},
   "outputs": [
    {
     "data": {
      "text/plain": [
       "[array([[ 4.6749187 ,  3.8853543 ,  2.2085905 , ..., -0.31530532,\n",
       "         -0.31531578, -0.31531802],\n",
       "        [ 0.9983379 ,  0.49074042,  0.37574193, ..., -0.18206783,\n",
       "         -0.18206747, -0.18206893],\n",
       "        [ 0.20084183,  0.12161088,  0.01850133, ..., -0.15826242,\n",
       "         -0.15826114, -0.15825993],\n",
       "        ...,\n",
       "        [ 0.80989695,  0.16179219,  0.1647071 , ..., -0.47767985,\n",
       "         -0.4777358 , -0.477748  ],\n",
       "        [-0.376021  ,  0.48656946,  1.1038606 , ..., -0.5463303 ,\n",
       "         -0.54635173, -0.54637665],\n",
       "        [ 0.4865891 ,  0.5026514 ,  0.64713675, ..., -0.55184567,\n",
       "         -0.55180705, -0.55181056]], dtype=float32),\n",
       " array([[-0.1790482 ,  0.36278582,  0.9705806 , ..., -0.422991  ,\n",
       "         -0.42299685, -0.42300546],\n",
       "        [ 0.96785605,  0.7562352 ,  0.29407862, ..., -0.35049757,\n",
       "         -0.35049668, -0.35049823],\n",
       "        [ 1.3569543 ,  1.0746098 ,  0.6611118 , ..., -0.3926355 ,\n",
       "         -0.39263597, -0.39263654],\n",
       "        ...,\n",
       "        [ 0.4661072 ,  0.6404588 ,  1.1270553 , ..., -0.6639165 ,\n",
       "         -0.6639169 , -0.6639269 ],\n",
       "        [ 0.6618123 , -0.11426621,  0.13406724, ..., -0.6427034 ,\n",
       "         -0.6426826 , -0.6427006 ],\n",
       "        [ 6.026891  ,  5.674687  ,  5.113735  , ..., -0.52198094,\n",
       "         -0.52201396, -0.5220906 ]], dtype=float32),\n",
       " array([[ 0.6278534 ,  0.97630319,  1.47466562, ..., -0.8022053 ,\n",
       "         -0.80250188, -0.80231424],\n",
       "        [-0.73207457,  0.61236665,  0.83584133, ..., -0.75134779,\n",
       "         -0.75106363, -0.75113241],\n",
       "        [-0.27210095, -0.26188876, -0.2646668 , ..., -0.36405534,\n",
       "         -0.36405998, -0.36405692],\n",
       "        ...,\n",
       "        [ 0.        ,  0.        ,  0.        , ...,  0.        ,\n",
       "          0.        ,  0.        ],\n",
       "        [ 0.        ,  0.        ,  0.        , ...,  0.        ,\n",
       "          0.        ,  0.        ],\n",
       "        [ 0.        ,  0.        ,  0.        , ...,  0.        ,\n",
       "          0.        ,  0.        ]]),\n",
       " array([[ 1.1896462 ,  1.3066919 ,  1.5752093 , ..., -0.67623985,\n",
       "         -0.6762579 , -0.67626953],\n",
       "        [ 0.22110821,  0.34778303,  0.12714131, ..., -0.5048641 ,\n",
       "         -0.50485593, -0.50484663],\n",
       "        [ 0.00947639, -0.06964368, -0.16781716, ..., -0.44986418,\n",
       "         -0.44986677, -0.44986728],\n",
       "        ...,\n",
       "        [-0.5160499 , -0.2668114 ,  0.51379836, ..., -0.68170977,\n",
       "         -0.6817344 , -0.6817365 ],\n",
       "        [-0.485106  ,  0.76693815,  1.9679173 , ..., -0.5922958 ,\n",
       "         -0.5923126 , -0.5923252 ],\n",
       "        [ 3.0920749 ,  3.443071  ,  3.8857675 , ..., -0.57708955,\n",
       "         -0.5771231 , -0.57720697]], dtype=float32),\n",
       " array([[ 1.56181163,  1.35173849,  0.9906218 , ..., -0.52122563,\n",
       "         -0.52133305, -0.5211796 ],\n",
       "        [-0.67012591, -0.6343789 , -0.65483298, ..., -0.71845356,\n",
       "         -0.71844976, -0.71846604],\n",
       "        [-0.55124964, -0.51041795, -0.46259882, ..., -0.59451461,\n",
       "         -0.59452073, -0.59452526],\n",
       "        ...,\n",
       "        [ 0.        ,  0.        ,  0.        , ...,  0.        ,\n",
       "          0.        ,  0.        ],\n",
       "        [ 0.        ,  0.        ,  0.        , ...,  0.        ,\n",
       "          0.        ,  0.        ],\n",
       "        [ 0.        ,  0.        ,  0.        , ...,  0.        ,\n",
       "          0.        ,  0.        ]]),\n",
       " array([[ 1.0148729 ,  1.3490579 ,  2.3308048 , ..., -0.5307327 ,\n",
       "         -0.53116256, -0.5308712 ],\n",
       "        [-0.70121825, -0.70106834, -0.6448407 , ..., -0.72233593,\n",
       "         -0.7225789 , -0.7225102 ],\n",
       "        [-0.18524288, -0.25023007, -0.28181425, ..., -0.5401523 ,\n",
       "         -0.54024106, -0.5402347 ],\n",
       "        ...,\n",
       "        [-0.35864416, -0.21453756,  0.4342268 , ..., -0.6158306 ,\n",
       "         -0.6158415 , -0.61583346],\n",
       "        [-0.34715325, -0.399952  , -0.16203949, ..., -0.62917846,\n",
       "         -0.62919825, -0.62921506],\n",
       "        [-0.43001336, -0.29424506,  0.05107624, ..., -0.5845261 ,\n",
       "         -0.5845639 , -0.5845577 ]], dtype=float32),\n",
       " array([[ 2.5443997 ,  2.3857548 ,  2.003515  , ..., -0.96277004,\n",
       "         -0.9629878 , -0.9630861 ],\n",
       "        [ 1.9478129 ,  0.7647236 ,  0.34349674, ..., -0.7452457 ,\n",
       "         -0.7451025 , -0.74517024],\n",
       "        [-0.19810359, -0.35039973, -0.22944516, ..., -0.421547  ,\n",
       "         -0.4215473 , -0.42155674],\n",
       "        ...,\n",
       "        [-0.5547452 , -0.5490217 ,  0.01201977, ..., -0.76145476,\n",
       "         -0.76146054, -0.7614385 ],\n",
       "        [-0.20822568,  0.34271428, -0.24241959, ..., -0.7083559 ,\n",
       "         -0.7083821 , -0.7084298 ],\n",
       "        [ 0.8800842 ,  0.87706214,  0.3792772 , ..., -0.56274104,\n",
       "         -0.56279814, -0.56288594]], dtype=float32),\n",
       " array([[-1.2723927 , -1.1698747 , -0.90571415, ..., -1.3992012 ,\n",
       "         -1.399223  , -1.3994623 ],\n",
       "        [-0.92557544, -0.66002274, -0.16019084, ..., -0.9612287 ,\n",
       "         -0.9612842 , -0.9613281 ],\n",
       "        [-0.24238777, -0.25751665, -0.2213219 , ..., -0.2983865 ,\n",
       "         -0.29838654, -0.29838404],\n",
       "        ...,\n",
       "        [-0.62027276, -0.3809695 ,  0.02613815, ..., -0.64719266,\n",
       "         -0.6472471 , -0.64726174],\n",
       "        [-0.57548964, -0.23002356, -0.05694271, ..., -0.6381999 ,\n",
       "         -0.6382506 , -0.6383006 ],\n",
       "        [-0.51021296, -0.31524876, -0.03192246, ..., -0.55070895,\n",
       "         -0.5507704 , -0.55079573]], dtype=float32),\n",
       " array([[ 0.86744034,  0.77604866,  0.57104445, ..., -0.4282527 ,\n",
       "         -0.42831054, -0.42827964],\n",
       "        [-1.0352521 , -0.97416824, -1.0119133 , ..., -1.2480298 ,\n",
       "         -1.2482389 , -1.2482973 ],\n",
       "        [-1.0266553 , -0.9279562 , -0.9650931 , ..., -1.1495029 ,\n",
       "         -1.1496451 , -1.1496004 ],\n",
       "        ...,\n",
       "        [-0.36026216, -0.08035927, -0.18242005, ..., -0.5043573 ,\n",
       "         -0.50435275, -0.5043564 ],\n",
       "        [-0.5094117 ,  0.09799318,  0.76950234, ..., -0.51787096,\n",
       "         -0.51788557, -0.5178851 ],\n",
       "        [-0.15713921,  0.11309708,  0.02492337, ..., -0.49728325,\n",
       "         -0.49728066, -0.4973002 ]], dtype=float32),\n",
       " array([[ 2.3249395 ,  2.2316277 ,  1.6384904 , ..., -0.56585014,\n",
       "         -0.5660271 , -0.56607324],\n",
       "        [ 4.425693  ,  4.153173  ,  3.454576  , ..., -0.6847703 ,\n",
       "         -0.68458354, -0.68452406],\n",
       "        [-0.54393566, -0.6199166 , -0.5004169 , ..., -0.63928115,\n",
       "         -0.6392932 , -0.6392994 ],\n",
       "        ...,\n",
       "        [ 0.6157434 ,  0.24020518, -0.25718996, ..., -0.58450156,\n",
       "         -0.5845068 , -0.58454317],\n",
       "        [ 0.44878492,  1.2681905 ,  0.8023295 , ..., -0.60887074,\n",
       "         -0.6088571 , -0.6089261 ],\n",
       "        [ 0.29269874,  1.0496722 ,  2.2652123 , ..., -0.529402  ,\n",
       "         -0.5294556 , -0.5294652 ]], dtype=float32),\n",
       " array([[ 0.05334585,  0.02879233,  0.23593383, ..., -0.41182636,\n",
       "         -0.41251662, -0.4119362 ],\n",
       "        [-0.80001845, -0.76123943, -0.66075793, ..., -0.83068639,\n",
       "         -0.83072013, -0.83070767],\n",
       "        [-0.29472705, -0.33289299, -0.2689249 , ..., -0.36490534,\n",
       "         -0.36490892, -0.3649075 ],\n",
       "        ...,\n",
       "        [ 0.        ,  0.        ,  0.        , ...,  0.        ,\n",
       "          0.        ,  0.        ],\n",
       "        [ 0.        ,  0.        ,  0.        , ...,  0.        ,\n",
       "          0.        ,  0.        ],\n",
       "        [ 0.        ,  0.        ,  0.        , ...,  0.        ,\n",
       "          0.        ,  0.        ]]),\n",
       " array([[ 4.4556823 ,  3.8707619 ,  2.6378124 , ..., -0.8307553 ,\n",
       "         -0.8308395 , -0.8308806 ],\n",
       "        [ 2.4386833 ,  1.4756254 ,  0.01201624, ..., -0.74745136,\n",
       "         -0.74740857, -0.7473183 ],\n",
       "        [-0.18296942, -0.32517186, -0.52382916, ..., -0.6131189 ,\n",
       "         -0.6131347 , -0.6131463 ],\n",
       "        ...,\n",
       "        [ 1.4832157 ,  1.0719069 ,  0.5254097 , ..., -0.5518357 ,\n",
       "         -0.55185384, -0.55185294],\n",
       "        [-0.01311575, -0.1606827 , -0.31859022, ..., -0.46632087,\n",
       "         -0.46632338, -0.46632573],\n",
       "        [-0.18689811, -0.09721847, -0.05336697, ..., -0.5090072 ,\n",
       "         -0.5090284 , -0.50903994]], dtype=float32),\n",
       " array([[-0.8414388 , -0.8842938 , -0.78882605, ..., -1.1644638 ,\n",
       "         -1.1649911 , -1.1642842 ],\n",
       "        [-0.58524233, -0.51252866, -0.39935133, ..., -0.66636395,\n",
       "         -0.6663687 , -0.6663806 ],\n",
       "        [-0.33629707, -0.2779869 , -0.30185992, ..., -0.33735406,\n",
       "         -0.3373676 , -0.33737004],\n",
       "        ...,\n",
       "        [-0.60170716, -0.46946204, -0.13045295, ..., -0.7001801 ,\n",
       "         -0.7001855 , -0.7001901 ],\n",
       "        [-0.61078095, -0.3756022 , -0.12877169, ..., -0.6719403 ,\n",
       "         -0.67192787, -0.6719396 ],\n",
       "        [-0.14977479, -0.16713573, -0.2051008 , ..., -0.6619516 ,\n",
       "         -0.6619754 , -0.66197246]], dtype=float32),\n",
       " array([[-0.0377533 , -0.03017464,  0.1744563 , ..., -0.3905331 ,\n",
       "         -0.39055008, -0.390555  ],\n",
       "        [-0.3081495 , -0.3113088 , -0.31935263, ..., -0.3615631 ,\n",
       "         -0.36156568, -0.36156443],\n",
       "        [-0.31535485, -0.30770093, -0.27636763, ..., -0.32574493,\n",
       "         -0.32574522, -0.32574543],\n",
       "        ...,\n",
       "        [-0.5406785 ,  0.23106869,  0.5650653 , ..., -0.59836644,\n",
       "         -0.5983824 , -0.59838945],\n",
       "        [-0.34537336,  0.19585732,  0.73027426, ..., -0.6100471 ,\n",
       "         -0.6100082 , -0.6100085 ],\n",
       "        [ 0.94258505,  1.2023588 ,  1.3875355 , ..., -0.6662476 ,\n",
       "         -0.6664658 , -0.66653055]], dtype=float32),\n",
       " array([[ 3.9371471 ,  3.1262746 ,  1.822833  , ..., -0.50859493,\n",
       "         -0.5087327 , -0.5087739 ],\n",
       "        [ 0.01340561,  1.378539  ,  1.5157949 , ..., -0.32703292,\n",
       "         -0.32703483, -0.327047  ],\n",
       "        [-0.15205462, -0.00834703, -0.05973954, ..., -0.276496  ,\n",
       "         -0.27649823, -0.27649602],\n",
       "        ...,\n",
       "        [-0.19978164, -0.11574652,  1.0538672 , ..., -0.65274465,\n",
       "         -0.65273035, -0.6527282 ],\n",
       "        [ 1.1466415 ,  0.89899564,  0.07954577, ..., -0.69880986,\n",
       "         -0.6988039 , -0.6988214 ],\n",
       "        [ 4.0321655 ,  2.7004259 , -0.04000383, ..., -0.764818  ,\n",
       "         -0.7647793 , -0.76476145]], dtype=float32),\n",
       " array([[-0.43957577, -0.29456553, -0.03967829, ..., -0.73580153,\n",
       "         -0.73583943, -0.73585382],\n",
       "        [-0.39722528, -0.40029732, -0.54930168, ..., -0.69158128,\n",
       "         -0.69156671, -0.69158862],\n",
       "        [-0.52094488, -0.535886  , -0.50978084, ..., -0.87897977,\n",
       "         -0.87898323, -0.87899454],\n",
       "        ...,\n",
       "        [ 0.        ,  0.        ,  0.        , ...,  0.        ,\n",
       "          0.        ,  0.        ],\n",
       "        [ 0.        ,  0.        ,  0.        , ...,  0.        ,\n",
       "          0.        ,  0.        ],\n",
       "        [ 0.        ,  0.        ,  0.        , ...,  0.        ,\n",
       "          0.        ,  0.        ]]),\n",
       " array([[-0.16591337, -0.15699033,  0.03189278, ..., -0.62162864,\n",
       "         -0.62180495, -0.6214918 ],\n",
       "        [-0.73152566, -0.7298349 , -0.6178353 , ..., -0.75935054,\n",
       "         -0.7595571 , -0.7595109 ],\n",
       "        [-0.68538827, -0.6657125 , -0.63965243, ..., -0.6996876 ,\n",
       "         -0.6996984 , -0.699702  ],\n",
       "        ...,\n",
       "        [-0.59347135, -0.5026892 ,  0.20524563, ..., -0.6920049 ,\n",
       "         -0.69201565, -0.6920307 ],\n",
       "        [-0.51145715, -0.49506688, -0.44883478, ..., -0.5219865 ,\n",
       "         -0.5219801 , -0.521994  ],\n",
       "        [-0.3912921 , -0.36521024, -0.34751824, ..., -0.53743106,\n",
       "         -0.53742516, -0.53743416]], dtype=float32),\n",
       " array([[-0.30701536, -0.09625115,  0.23006167, ..., -1.3328885 ,\n",
       "         -1.3333783 , -1.3331661 ],\n",
       "        [-0.5836543 , -0.5345493 , -0.70628965, ..., -0.9768605 ,\n",
       "         -0.97695297, -0.9769513 ],\n",
       "        [-0.3820401 , -0.25403064, -0.21045904, ..., -0.39525315,\n",
       "         -0.3952835 , -0.39527997],\n",
       "        ...,\n",
       "        [-0.40598238, -0.00990182,  0.87247396, ..., -0.5317422 ,\n",
       "         -0.5317443 , -0.5317345 ],\n",
       "        [-0.55289066,  0.13592358,  1.0219796 , ..., -0.6301983 ,\n",
       "         -0.63022316, -0.63022375],\n",
       "        [-0.31966507, -0.12296947,  0.15514773, ..., -0.6103428 ,\n",
       "         -0.61037284, -0.61039656]], dtype=float32),\n",
       " array([[ 4.018992  ,  3.2602062 ,  1.3943584 , ..., -0.550808  ,\n",
       "         -0.5509596 , -0.55096394],\n",
       "        [-0.20216784,  3.6156332 ,  3.3445997 , ..., -0.40363488,\n",
       "         -0.4036741 , -0.4039033 ],\n",
       "        [-0.02596712, -0.06840594, -0.0249635 , ..., -0.27670202,\n",
       "         -0.27669916, -0.2766985 ],\n",
       "        ...,\n",
       "        [ 0.18093504,  0.23595388,  0.3064256 , ..., -0.56816846,\n",
       "         -0.568175  , -0.56817424],\n",
       "        [-0.3405172 ,  0.12061227,  0.11399435, ..., -0.48122796,\n",
       "         -0.48124325, -0.48124763],\n",
       "        [-0.31764027,  0.12633897,  0.6180035 , ..., -0.5224815 ,\n",
       "         -0.5224564 , -0.52246314]], dtype=float32),\n",
       " array([[-0.5853172 , -0.5271109 , -0.08908378, ..., -0.6076517 ,\n",
       "         -0.6079781 , -0.6081004 ],\n",
       "        [-0.23042086, -0.13893062,  0.03863102, ..., -0.32933196,\n",
       "         -0.32934383, -0.3293397 ],\n",
       "        [-0.3473936 , -0.3114148 , -0.27713084, ..., -0.35839435,\n",
       "         -0.35839573, -0.3583965 ],\n",
       "        ...,\n",
       "        [-0.3514348 ,  0.0799612 ,  1.1193209 , ..., -0.5288128 ,\n",
       "         -0.5288115 , -0.52882415],\n",
       "        [-0.47867298, -0.10923535,  0.49190697, ..., -0.5536236 ,\n",
       "         -0.55368525, -0.5536926 ],\n",
       "        [ 0.14750499,  0.38114217,  0.72630185, ..., -0.4428525 ,\n",
       "         -0.44288132, -0.44285512]], dtype=float32),\n",
       " array([[ 0.3383604 ,  0.56734458,  0.86386968, ..., -0.49525032,\n",
       "         -0.4953159 , -0.49536337],\n",
       "        [-0.25509625, -0.0753282 ,  0.898737  , ..., -0.60437519,\n",
       "         -0.60324938, -0.60220764],\n",
       "        [-1.11591671, -1.07659836, -1.09317817, ..., -1.11532067,\n",
       "         -1.11607568, -1.11614806],\n",
       "        ...,\n",
       "        [ 0.        ,  0.        ,  0.        , ...,  0.        ,\n",
       "          0.        ,  0.        ],\n",
       "        [ 0.        ,  0.        ,  0.        , ...,  0.        ,\n",
       "          0.        ,  0.        ],\n",
       "        [ 0.        ,  0.        ,  0.        , ...,  0.        ,\n",
       "          0.        ,  0.        ]]),\n",
       " array([[-0.63023013, -0.36451672,  0.34366011, ..., -0.63082907,\n",
       "         -0.63368913, -0.6306963 ],\n",
       "        [-0.76376102, -0.679503  , -0.42373053, ..., -0.76633584,\n",
       "         -0.76643444, -0.76645862],\n",
       "        [-0.32325045, -0.32542383, -0.23617573, ..., -0.37439538,\n",
       "         -0.37439409, -0.37439345],\n",
       "        ...,\n",
       "        [ 0.        ,  0.        ,  0.        , ...,  0.        ,\n",
       "          0.        ,  0.        ],\n",
       "        [ 0.        ,  0.        ,  0.        , ...,  0.        ,\n",
       "          0.        ,  0.        ],\n",
       "        [ 0.        ,  0.        ,  0.        , ...,  0.        ,\n",
       "          0.        ,  0.        ]]),\n",
       " array([[-0.14181918,  0.95512235,  2.7410026 , ..., -0.30297884,\n",
       "         -0.302986  , -0.30300525],\n",
       "        [-0.02870788, -0.0683513 ,  0.1799894 , ..., -0.1683182 ,\n",
       "         -0.16831408, -0.1683199 ],\n",
       "        [-0.11853252, -0.0622472 ,  0.08148653, ..., -0.17047043,\n",
       "         -0.1704695 , -0.1704685 ],\n",
       "        ...,\n",
       "        [-0.3550662 , -0.29346055,  0.52776104, ..., -0.47797844,\n",
       "         -0.47802332, -0.47806677],\n",
       "        [-0.31402385,  0.06783323,  0.465106  , ..., -0.5431699 ,\n",
       "         -0.5430998 , -0.5431712 ],\n",
       "        [-0.44161645, -0.1305928 ,  0.08246324, ..., -0.44379   ,\n",
       "         -0.44388223, -0.44385844]], dtype=float32),\n",
       " array([[ 0.41876232,  0.84227424,  1.49021187, ..., -0.42339563,\n",
       "         -0.42358852, -0.42370575],\n",
       "        [-0.16588756, -0.03332984,  0.10779812, ..., -0.19293259,\n",
       "         -0.19295691, -0.19296034],\n",
       "        [-0.1751497 , -0.16959682, -0.20992228, ..., -0.26789747,\n",
       "         -0.26790984, -0.26790977],\n",
       "        ...,\n",
       "        [ 0.        ,  0.        ,  0.        , ...,  0.        ,\n",
       "          0.        ,  0.        ],\n",
       "        [ 0.        ,  0.        ,  0.        , ...,  0.        ,\n",
       "          0.        ,  0.        ],\n",
       "        [ 0.        ,  0.        ,  0.        , ...,  0.        ,\n",
       "          0.        ,  0.        ]]),\n",
       " array([[ 0.34694028,  0.53975725,  0.9497814 , ..., -0.80517334,\n",
       "         -0.80532956, -0.80521727],\n",
       "        [-0.61704385, -0.60220873, -0.6633953 , ..., -0.771853  ,\n",
       "         -0.7718308 , -0.7718813 ],\n",
       "        [-0.63300174, -0.6529004 , -0.6103174 , ..., -0.6715693 ,\n",
       "         -0.67156047, -0.67154807],\n",
       "        ...,\n",
       "        [-0.3572868 ,  0.00749245,  0.27221546, ..., -0.5120372 ,\n",
       "         -0.5120413 , -0.5120328 ],\n",
       "        [-0.41192925, -0.06048466,  0.45073864, ..., -0.43632606,\n",
       "         -0.4363212 , -0.43633118],\n",
       "        [-0.24275964, -0.08935525,  0.3667981 , ..., -0.45987636,\n",
       "         -0.45991874, -0.45989296]], dtype=float32),\n",
       " array([[ 3.40185412e+00,  2.76314770e+00,  2.07076655e+00, ...,\n",
       "         -5.20385600e-01, -5.20435091e-01, -5.20461027e-01],\n",
       "        [ 3.84347291e+00,  3.33559563e+00,  3.04805190e+00, ...,\n",
       "         -5.06309713e-01, -5.06338052e-01, -5.06373428e-01],\n",
       "        [-2.18031145e-01, -1.86723457e-01,  1.25350654e-03, ...,\n",
       "         -2.87355433e-01, -2.87362584e-01, -2.87365845e-01],\n",
       "        ...,\n",
       "        [ 0.00000000e+00,  0.00000000e+00,  0.00000000e+00, ...,\n",
       "          0.00000000e+00,  0.00000000e+00,  0.00000000e+00],\n",
       "        [ 0.00000000e+00,  0.00000000e+00,  0.00000000e+00, ...,\n",
       "          0.00000000e+00,  0.00000000e+00,  0.00000000e+00],\n",
       "        [ 0.00000000e+00,  0.00000000e+00,  0.00000000e+00, ...,\n",
       "          0.00000000e+00,  0.00000000e+00,  0.00000000e+00]]),\n",
       " array([[-0.01671706,  0.73141654,  1.89504142, ..., -0.43001907,\n",
       "         -0.43029793, -0.43039586],\n",
       "        [ 2.61187182,  3.25329945,  3.46469972, ..., -0.34649142,\n",
       "         -0.34650096, -0.34651264],\n",
       "        [ 1.22679256,  0.84745921,  0.06283015, ..., -0.27061594,\n",
       "         -0.27061581, -0.27061622],\n",
       "        ...,\n",
       "        [ 0.        ,  0.        ,  0.        , ...,  0.        ,\n",
       "          0.        ,  0.        ],\n",
       "        [ 0.        ,  0.        ,  0.        , ...,  0.        ,\n",
       "          0.        ,  0.        ],\n",
       "        [ 0.        ,  0.        ,  0.        , ...,  0.        ,\n",
       "          0.        ,  0.        ]]),\n",
       " array([[-0.44722056,  0.3825516 ,  1.3947926 , ..., -0.49142918,\n",
       "         -0.49148226, -0.4915119 ],\n",
       "        [-0.69181323, -0.11018518, -0.46237606, ..., -0.9347814 ,\n",
       "         -0.93480766, -0.9352252 ],\n",
       "        [-0.648292  , -0.6204848 , -0.50799394, ..., -0.6605667 ,\n",
       "         -0.6605808 , -0.66058046],\n",
       "        ...,\n",
       "        [-0.33424836, -0.42121008, -0.23073143, ..., -0.6136195 ,\n",
       "         -0.6135915 , -0.6136277 ],\n",
       "        [-0.583983  ,  0.13073207,  0.6567509 , ..., -0.6391079 ,\n",
       "         -0.63907117, -0.639006  ],\n",
       "        [-0.2872872 , -0.2461755 ,  1.9175291 , ..., -0.52306485,\n",
       "         -0.5230849 , -0.5230926 ]], dtype=float32),\n",
       " array([[-0.18253194,  0.05210684,  0.18595772, ..., -0.44392524,\n",
       "         -0.44401249, -0.44402532],\n",
       "        [-0.22858812, -0.19780178, -0.23918859, ..., -0.27399973,\n",
       "         -0.27401155, -0.27401874],\n",
       "        [-0.25467685, -0.23666517, -0.26131935, ..., -0.26571872,\n",
       "         -0.26571855, -0.2657197 ],\n",
       "        ...,\n",
       "        [ 0.        ,  0.        ,  0.        , ...,  0.        ,\n",
       "          0.        ,  0.        ],\n",
       "        [ 0.        ,  0.        ,  0.        , ...,  0.        ,\n",
       "          0.        ,  0.        ],\n",
       "        [ 0.        ,  0.        ,  0.        , ...,  0.        ,\n",
       "          0.        ,  0.        ]]),\n",
       " array([[ 0.70929503,  1.2088258 ,  2.291868  , ..., -0.8612179 ,\n",
       "         -0.8613182 , -0.86138165],\n",
       "        [ 0.9751476 ,  0.72754365,  0.7721411 , ..., -1.2850089 ,\n",
       "         -1.2832721 , -1.2845246 ],\n",
       "        [-0.54349613, -0.6977124 , -0.9871722 , ..., -1.2391416 ,\n",
       "         -1.2393806 , -1.2392826 ],\n",
       "        ...,\n",
       "        [ 0.7267913 ,  0.35224402, -0.21210696, ..., -0.7172758 ,\n",
       "         -0.71727985, -0.7173033 ],\n",
       "        [-0.40226945, -0.25418267, -0.03919902, ..., -0.592182  ,\n",
       "         -0.5922087 , -0.5922073 ],\n",
       "        [ 0.6329813 ,  0.7180731 ,  0.64383996, ..., -0.7041753 ,\n",
       "         -0.7043029 , -0.70421773]], dtype=float32),\n",
       " array([[ 1.7818128 ,  1.5522115 ,  1.2671678 , ..., -0.54978913,\n",
       "         -0.5498075 , -0.5502195 ],\n",
       "        [-0.655235  , -0.6465519 , -0.60303724, ..., -0.67146575,\n",
       "         -0.671516  , -0.67145306],\n",
       "        [-0.7025864 , -0.65238917, -0.5897456 , ..., -0.74708706,\n",
       "         -0.7471101 , -0.74714154],\n",
       "        ...,\n",
       "        [-0.58685184, -0.15077218,  1.2769433 , ..., -0.6394754 ,\n",
       "         -0.6394638 , -0.63947463],\n",
       "        [-0.3776437 , -0.35674217,  0.98749775, ..., -0.5938057 ,\n",
       "         -0.5938227 , -0.59381974],\n",
       "        [-0.45465755, -0.20593742,  0.78187937, ..., -0.5360575 ,\n",
       "         -0.53607064, -0.53605485]], dtype=float32),\n",
       " array([[-0.6215554 , -0.23609634,  0.3591641 , ..., -1.3979119 ,\n",
       "         -1.3979267 , -1.3980836 ],\n",
       "        [ 0.65757006, -0.1632878 , -0.67613274, ..., -1.123418  ,\n",
       "         -1.1234102 , -1.1232672 ],\n",
       "        [-0.10815547, -0.13059466, -0.21293102, ..., -0.36295018,\n",
       "         -0.36297312, -0.36299205],\n",
       "        ...,\n",
       "        [ 0.5320993 , -0.0111415 , -0.1421915 , ..., -0.71946734,\n",
       "         -0.7195027 , -0.71950066],\n",
       "        [ 4.144046  ,  3.0402822 ,  0.5096412 , ..., -0.68168956,\n",
       "         -0.68178886, -0.68177015],\n",
       "        [ 3.3440063 ,  2.9226046 ,  1.7900287 , ..., -0.62360173,\n",
       "         -0.62381756, -0.6238218 ]], dtype=float32)]"
      ]
     },
     "execution_count": 115,
     "metadata": {},
     "output_type": "execute_result"
    }
   ],
   "source": [
    "b"
   ]
  },
  {
   "cell_type": "code",
   "execution_count": 116,
   "id": "5a838673",
   "metadata": {},
   "outputs": [
    {
     "ename": "TypeError",
     "evalue": "expected np.ndarray (got list)",
     "output_type": "error",
     "traceback": [
      "\u001b[0;31m---------------------------------------------------------------------------\u001b[0m",
      "\u001b[0;31mTypeError\u001b[0m                                 Traceback (most recent call last)",
      "\u001b[0;32m/tmp/ipykernel_742215/1522605114.py\u001b[0m in \u001b[0;36m<module>\u001b[0;34m\u001b[0m\n\u001b[0;32m----> 1\u001b[0;31m \u001b[0mtorch\u001b[0m\u001b[0;34m.\u001b[0m\u001b[0mfrom_numpy\u001b[0m\u001b[0;34m(\u001b[0m\u001b[0mb\u001b[0m\u001b[0;34m)\u001b[0m\u001b[0;34m\u001b[0m\u001b[0;34m\u001b[0m\u001b[0m\n\u001b[0m",
      "\u001b[0;31mTypeError\u001b[0m: expected np.ndarray (got list)"
     ]
    }
   ],
   "source": [
    "torch.from_numpy(b)"
   ]
  },
  {
   "cell_type": "code",
   "execution_count": null,
   "id": "d47ca65a",
   "metadata": {},
   "outputs": [],
   "source": []
  },
  {
   "cell_type": "code",
   "execution_count": null,
   "id": "7b751186",
   "metadata": {},
   "outputs": [],
   "source": []
  },
  {
   "cell_type": "markdown",
   "id": "5c08f226",
   "metadata": {},
   "source": [
    "# AASIST Filters"
   ]
  },
  {
   "cell_type": "code",
   "execution_count": 125,
   "id": "3a5fe527",
   "metadata": {},
   "outputs": [],
   "source": [
    "out_channels = 70\n",
    "kernel_size = 129\n",
    "sample_rate = 16000"
   ]
  },
  {
   "cell_type": "code",
   "execution_count": 127,
   "id": "c5a004fd",
   "metadata": {},
   "outputs": [],
   "source": [
    "def to_mel(hz):\n",
    "        return 2595 * np.log10(1 + hz / 700)\n",
    "\n",
    "\n",
    "def to_hz(mel):\n",
    "    return 700 * (10**(mel / 2595) - 1)"
   ]
  },
  {
   "cell_type": "code",
   "execution_count": 128,
   "id": "ca80df45",
   "metadata": {},
   "outputs": [],
   "source": [
    "NFFT = 512\n",
    "f = int(sample_rate / 2) * np.linspace(0, 1, int(NFFT / 2) + 1)\n",
    "fmel = to_mel(f)\n",
    "fmelmax = np.max(fmel)\n",
    "fmelmin = np.min(fmel)\n",
    "filbandwidthsmel = np.linspace(fmelmin, fmelmax, out_channels + 1)\n",
    "filbandwidthsf = to_hz(filbandwidthsmel)"
   ]
  },
  {
   "cell_type": "code",
   "execution_count": 130,
   "id": "91954521",
   "metadata": {},
   "outputs": [],
   "source": [
    "from torch import Tensor"
   ]
  },
  {
   "cell_type": "code",
   "execution_count": 131,
   "id": "a0efc57d",
   "metadata": {},
   "outputs": [],
   "source": [
    "mel = filbandwidthsf\n",
    "hsupp = torch.arange(-(kernel_size - 1) / 2,\n",
    "                          (kernel_size - 1) / 2 + 1)\n",
    "band_pass = torch.zeros(out_channels, kernel_size)\n",
    "for i in range(len(mel) - 1):\n",
    "    fmin = mel[i]\n",
    "    fmax = mel[i + 1]\n",
    "    hHigh = (2*fmax/sample_rate) * \\\n",
    "        np.sinc(2*fmax*hsupp/sample_rate)\n",
    "    hLow = (2*fmin/sample_rate) * \\\n",
    "        np.sinc(2*fmin*hsupp/sample_rate)\n",
    "    hideal = hHigh - hLow\n",
    "\n",
    "    band_pass[i, :] = Tensor(np.hamming(\n",
    "        kernel_size)) * Tensor(hideal)"
   ]
  },
  {
   "cell_type": "code",
   "execution_count": 133,
   "id": "dfc37070",
   "metadata": {},
   "outputs": [
    {
     "data": {
      "text/plain": [
       "torch.Size([70, 129])"
      ]
     },
     "execution_count": 133,
     "metadata": {},
     "output_type": "execute_result"
    }
   ],
   "source": [
    "band_pass.shape"
   ]
  },
  {
   "cell_type": "code",
   "execution_count": 134,
   "id": "78aa7d67",
   "metadata": {},
   "outputs": [],
   "source": [
    "import matplotlib.pyplot as plt"
   ]
  },
  {
   "cell_type": "code",
   "execution_count": 144,
   "id": "810bfb96",
   "metadata": {},
   "outputs": [
    {
     "data": {
      "image/png": "[encoded data removed]",
      "text/plain": [
       "<Figure size 432x288 with 1 Axes>"
      ]
     },
     "metadata": {
      "needs_background": "light"
     },
     "output_type": "display_data"
    }
   ],
   "source": [
    "plt.figure()\n",
    "for i in range(5):\n",
    "    plt.plot(band_pass[i])\n",
    "plt.show()"
   ]
  },
  {
   "cell_type": "code",
   "execution_count": 140,
   "id": "16169be3",
   "metadata": {},
   "outputs": [
    {
     "data": {
      "image/png": "[encoded data removed]",
      "text/plain": [
       "<Figure size 432x288 with 1 Axes>"
      ]
     },
     "metadata": {
      "needs_background": "light"
     },
     "output_type": "display_data"
    }
   ],
   "source": [
    "plt.figure()\n",
    "for i in range(70):\n",
    "    plt.plot(band_pass[i])\n",
    "plt.show()"
   ]
  },
  {
   "cell_type": "code",
   "execution_count": 136,
   "id": "219394d6",
   "metadata": {},
   "outputs": [
    {
     "data": {
      "image/png": "[encoded data removed]",
      "text/plain": [
       "<Figure size 432x288 with 1 Axes>"
      ]
     },
     "metadata": {
      "needs_background": "light"
     },
     "output_type": "display_data"
    }
   ],
   "source": [
    "plt.figure()\n",
    "plt.plot(band_pass[1])\n",
    "plt.show()"
   ]
  },
  {
   "cell_type": "code",
   "execution_count": 141,
   "id": "c79b9f83",
   "metadata": {},
   "outputs": [
    {
     "data": {
      "image/png": "[encoded data removed]",
      "text/plain": [
       "<Figure size 432x288 with 1 Axes>"
      ]
     },
     "metadata": {
      "needs_background": "light"
     },
     "output_type": "display_data"
    }
   ],
   "source": [
    "plt.figure()\n",
    "plt.plot(band_pass[-1])\n",
    "plt.show()"
   ]
  },
  {
   "cell_type": "code",
   "execution_count": null,
   "id": "2b9a9640",
   "metadata": {},
   "outputs": [],
   "source": []
  },
  {
   "cell_type": "code",
   "execution_count": null,
   "id": "7d10c1dd",
   "metadata": {},
   "outputs": [],
   "source": []
  },
  {
   "cell_type": "code",
   "execution_count": null,
   "id": "15f134a0",
   "metadata": {},
   "outputs": [],
   "source": []
  },
  {
   "cell_type": "code",
   "execution_count": null,
   "id": "b39cb290",
   "metadata": {},
   "outputs": [],
   "source": []
  },
  {
   "cell_type": "code",
   "execution_count": null,
   "id": "986a0530",
   "metadata": {},
   "outputs": [],
   "source": []
  },
  {
   "cell_type": "code",
   "execution_count": null,
   "id": "65cf74e2",
   "metadata": {},
   "outputs": [],
   "source": []
  },
  {
   "cell_type": "code",
   "execution_count": null,
   "id": "6ed64a11",
   "metadata": {},
   "outputs": [],
   "source": []
  }
 ],
 "metadata": {
  "kernelspec": {
   "display_name": "Python 3 (ipykernel)",
   "language": "python",
   "name": "python3"
  },
  "language_info": {
   "codemirror_mode": {
    "name": "ipython",
    "version": 3
   },
   "file_extension": ".py",
   "mimetype": "text/x-python",
   "name": "python",
   "nbconvert_exporter": "python",
   "pygments_lexer": "ipython3",
   "version": "3.9.12"
  }
 },
 "nbformat": 4,
 "nbformat_minor": 5
}
